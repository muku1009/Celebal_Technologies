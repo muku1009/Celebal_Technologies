{
 "cells": [
  {
   "cell_type": "markdown",
   "id": "ca716e72",
   "metadata": {},
   "source": [
    "Import Libraries"
   ]
  },
  {
   "cell_type": "code",
   "execution_count": null,
   "id": "a67d35fe",
   "metadata": {},
   "outputs": [],
   "source": [
    "import matplotlib.pyplot as plt\n",
    "import numpy as np\n",
    "import pandas as pd\n"
   ]
  },
  {
   "cell_type": "markdown",
   "id": "0236b591",
   "metadata": {},
   "source": [
    "Line Plot - Basic Mathematical Functions"
   ]
  },
  {
   "cell_type": "code",
   "execution_count": null,
   "id": "15711021",
   "metadata": {},
   "outputs": [],
   "source": [
    "# Define X and Y values for the first line\n",
    "x_vals = [0, 1, 2, 3, 4]\n",
    "y_vals = [0, 2, 4, 6, 8]\n",
    "\n",
    "# Create a figure with specific size and resolution\n",
    "plt.figure(figsize=(8, 5), dpi=100)\n",
    "\n",
    "# First line using shorthand format (blue triangle marker, dashed line)\n",
    "plt.plot(x_vals, y_vals, 'b^--', label='2 * x')\n",
    "\n",
    "# Define X values for the second line (with intervals of 0.5)\n",
    "x_alt = np.arange(0, 4.5, 0.5)\n",
    "\n",
    "# Draw line plot for part of the quadratic curve\n",
    "plt.plot(x_alt[:6], x_alt[:6]**2, 'r', label='x² (first half)')\n",
    "\n",
    "# Use dashed line for remaining part\n",
    "plt.plot(x_alt[5:], x_alt[5:]**2, 'r--', label='x² (second half)')\n",
    "\n",
    "# Set title and axis labels\n",
    "plt.title('Linear and Quadratic Plots', fontdict={'fontname': 'Comic Sans MS', 'fontsize': 20})\n",
    "plt.xlabel('Input (x)')\n",
    "plt.ylabel('Output (y)')\n",
    "\n",
    "# Custom ticks on X-axis\n",
    "plt.xticks([0, 1, 2, 3, 4])\n",
    "\n",
    "# Add legend and save the figure\n",
    "plt.legend()\n",
    "plt.savefig('line_plot.png', dpi=300)\n",
    "plt.show()\n"
   ]
  },
  {
   "cell_type": "markdown",
   "id": "4d57cc15",
   "metadata": {},
   "source": [
    "Bar Chart with Patterns"
   ]
  },
  {
   "cell_type": "code",
   "execution_count": null,
   "id": "812f0773",
   "metadata": {},
   "outputs": [],
   "source": [
    "# Define labels and corresponding values\n",
    "categories = ['A', 'B', 'C']\n",
    "heights = [1, 4, 2]\n",
    "\n",
    "# Create a new figure\n",
    "plt.figure(figsize=(5, 3), dpi=100)\n",
    "\n",
    "# Draw bar chart\n",
    "bars = plt.bar(categories, heights)\n",
    "\n",
    "# Apply hatching patterns to differentiate bars\n",
    "hatch_styles = ['/', 'O', '*']\n",
    "for bar in bars:\n",
    "    bar.set_hatch(hatch_styles.pop(0))\n",
    "\n",
    "# Save and show chart\n",
    "plt.savefig('patterned_bars.png', dpi=300)\n",
    "plt.show()\n"
   ]
  },
  {
   "cell_type": "markdown",
   "id": "6d070f9f",
   "metadata": {},
   "source": [
    "Load Gas Prices Data"
   ]
  },
  {
   "cell_type": "code",
   "execution_count": null,
   "id": "3ad35aba",
   "metadata": {},
   "outputs": [],
   "source": [
    "# Load gas prices dataset\n",
    "gas_data = pd.read_csv('gas_prices.csv')\n",
    "\n",
    "# Display the first few rows of the dataset\n",
    "gas_data.head()\n"
   ]
  },
  {
   "cell_type": "markdown",
   "id": "24ccc897",
   "metadata": {},
   "source": [
    "Time Series Line Plot (Gas Prices)"
   ]
  },
  {
   "cell_type": "code",
   "execution_count": null,
   "id": "ad523256",
   "metadata": {},
   "outputs": [],
   "source": [
    "# Load gas prices dataset\n",
    "gas_data = pd.read_csv('gas_prices.csv')\n",
    "\n",
    "# Create a figure\n",
    "plt.figure(figsize=(8, 5))\n",
    "plt.title('Gas Prices Over Time (USD)', fontdict={'fontweight': 'bold', 'fontsize': 18})\n",
    "\n",
    "# Plot multiple countries\n",
    "plt.plot(gas_data.Year, gas_data.USA, 'b.-', label='USA')\n",
    "plt.plot(gas_data.Year, gas_data.Canada, 'r.-', label='Canada')\n",
    "plt.plot(gas_data.Year, gas_data['South Korea'], 'g.-', label='South Korea')\n",
    "plt.plot(gas_data.Year, gas_data.Australia, 'y.-', label='Australia')\n",
    "\n",
    "# Format x-ticks and labels\n",
    "plt.xticks(gas_data.Year[::3].tolist() + [2011])\n",
    "plt.xlabel('Year')\n",
    "plt.ylabel('Price (USD)')\n",
    "\n",
    "# Add legend and save\n",
    "plt.legend()\n",
    "plt.savefig('gas_price_trends.png', dpi=300)\n",
    "plt.show()\n"
   ]
  },
  {
   "cell_type": "markdown",
   "id": "ae1b7f32",
   "metadata": {},
   "source": [
    "Load FIFA Data"
   ]
  },
  {
   "cell_type": "code",
   "execution_count": null,
   "id": "60d91186",
   "metadata": {},
   "outputs": [],
   "source": [
    "# Load FIFA data\n",
    "fifa_df = pd.read_csv('fifa_data.csv')\n",
    "\n",
    "# Display the first few rows of the dataset\n",
    "fifa_df.head()"
   ]
  },
  {
   "cell_type": "markdown",
   "id": "1536dc27",
   "metadata": {},
   "source": [
    "Histogram - Distribution of Skill Ratings (FIFA Dataset)"
   ]
  },
  {
   "cell_type": "code",
   "execution_count": null,
   "id": "4e6c5838",
   "metadata": {},
   "outputs": [],
   "source": [
    "\n",
    "# Define rating bins\n",
    "skill_bins = [40, 50, 60, 70, 80, 90, 100]\n",
    "\n",
    "plt.figure(figsize=(8, 5))\n",
    "plt.hist(fifa_df.Overall, bins=skill_bins, color='#abcdef')\n",
    "plt.xticks(skill_bins)\n",
    "plt.ylabel('Number of Players')\n",
    "plt.xlabel('Overall Skill')\n",
    "plt.title('Player Skill Distribution in FIFA')\n",
    "plt.savefig('skill_histogram.png', dpi=300)\n",
    "plt.show()\n"
   ]
  }
 ],
 "metadata": {
  "kernelspec": {
   "display_name": "base",
   "language": "python",
   "name": "python3"
  },
  "language_info": {
   "name": "python",
   "version": "3.12.7"
  }
 },
 "nbformat": 4,
 "nbformat_minor": 5
}
